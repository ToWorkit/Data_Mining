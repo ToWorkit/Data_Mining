{
 "cells": [
  {
   "cell_type": "code",
   "execution_count": 13,
   "metadata": {
    "collapsed": true
   },
   "outputs": [],
   "source": [
    "import numpy as np"
   ]
  },
  {
   "cell_type": "code",
   "execution_count": 4,
   "metadata": {},
   "outputs": [
    {
     "name": "stdout",
     "output_type": "stream",
     "text": [
      "2\n",
      "3\n",
      "4\n",
      "5\n",
      "6\n",
      "7\n",
      "8\n",
      "9\n"
     ]
    }
   ],
   "source": [
    "a = range(2, 10)\n",
    "type(a)\n",
    "for i in a:\n",
    "    print(i)"
   ]
  },
  {
   "cell_type": "code",
   "execution_count": 5,
   "metadata": {},
   "outputs": [
    {
     "name": "stdout",
     "output_type": "stream",
     "text": [
      "0 2\n",
      "1 3\n",
      "2 4\n",
      "3 5\n",
      "4 6\n",
      "5 7\n",
      "6 8\n",
      "7 9\n"
     ]
    }
   ],
   "source": [
    "for k, v in enumerate(a):\n",
    "    print(k, v)"
   ]
  },
  {
   "cell_type": "markdown",
   "metadata": {},
   "source": [
    "### 对比numpy.math和python标准库的math.sin计算速度"
   ]
  },
  {
   "cell_type": "code",
   "execution_count": 9,
   "metadata": {
    "collapsed": true
   },
   "outputs": [],
   "source": [
    "import time\n",
    "import math"
   ]
  },
  {
   "cell_type": "code",
   "execution_count": 11,
   "metadata": {},
   "outputs": [
    {
     "name": "stdout",
     "output_type": "stream",
     "text": [
      "math.sin => 0.03701075559487599\n"
     ]
    }
   ],
   "source": [
    "x = [i * 0.001 for i in range(100000)]\n",
    "start = time.clock()\n",
    "# enumerate => 枚举\n",
    "# i 为索引，t 为值\n",
    "for i, t in enumerate(x):\n",
    "    x[i] = math.sin(t)\n",
    "print(f\"math.sin => {float(time.clock()) - float(start)}\")"
   ]
  },
  {
   "cell_type": "code",
   "execution_count": 15,
   "metadata": {},
   "outputs": [
    {
     "name": "stdout",
     "output_type": "stream",
     "text": [
      "np.sin => -0.0072714265430420255\n"
     ]
    }
   ],
   "source": [
    "a = np.array(x)\n",
    "start = time.clock()\n",
    "np.sin(x)\n",
    "print(f\"np.sin => {float(start) - float(time.clock())}\")"
   ]
  },
  {
   "cell_type": "markdown",
   "metadata": {},
   "source": [
    "```python\n",
    "y = x1 + x2:\tadd(x1, x2 [, y])\n",
    "y = x1 - x2:\tsubtract(x1, x2 [, y])\n",
    "y = x1 * x2:\tmultiply (x1, x2 [, y])\n",
    "y = x1 / x2:\tdivide (x1, x2 [, y]), 如果两个数组的元素为整数，那么用整数除法\n",
    "y = x1 / x2:\ttrue divide (x1, x2 [, y]), 总是返回精确的商\n",
    "y = x1 // x2:\tfloor divide (x1, x2 [, y]), 总是对返回值取整\n",
    "y = -x:\tnegative(x [,y])\n",
    "y = x1**x2:\tpower(x1, x2 [, y])\n",
    "y = x1 % x2:\tremainder(x1, x2 [, y]), mod(x1, x2, [, y])\n",
    "```"
   ]
  },
  {
   "cell_type": "code",
   "execution_count": 16,
   "metadata": {},
   "outputs": [
    {
     "data": {
      "text/plain": [
       "array([0, 1, 2, 3])"
      ]
     },
     "execution_count": 16,
     "metadata": {},
     "output_type": "execute_result"
    }
   ],
   "source": [
    "# 对应元素求和\n",
    "a = np.arange(4)\n",
    "a"
   ]
  },
  {
   "cell_type": "code",
   "execution_count": 17,
   "metadata": {},
   "outputs": [
    {
     "data": {
      "text/plain": [
       "array([3, 4, 5, 6])"
      ]
     },
     "execution_count": 17,
     "metadata": {},
     "output_type": "execute_result"
    }
   ],
   "source": [
    "b = np.arange(3, 7)\n",
    "b"
   ]
  },
  {
   "cell_type": "code",
   "execution_count": 18,
   "metadata": {},
   "outputs": [
    {
     "data": {
      "text/plain": [
       "array([3, 5, 7, 9])"
      ]
     },
     "execution_count": 18,
     "metadata": {},
     "output_type": "execute_result"
    }
   ],
   "source": [
    "c = np.add(a, b)\n",
    "c"
   ]
  },
  {
   "cell_type": "code",
   "execution_count": null,
   "metadata": {
    "collapsed": true
   },
   "outputs": [],
   "source": []
  }
 ],
 "metadata": {
  "kernelspec": {
   "display_name": "Python 3",
   "language": "python",
   "name": "python3"
  },
  "language_info": {
   "codemirror_mode": {
    "name": "ipython",
    "version": 3
   },
   "file_extension": ".py",
   "mimetype": "text/x-python",
   "name": "python",
   "nbconvert_exporter": "python",
   "pygments_lexer": "ipython3",
   "version": "3.6.1"
  }
 },
 "nbformat": 4,
 "nbformat_minor": 2
}
